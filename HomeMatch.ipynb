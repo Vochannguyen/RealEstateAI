{
 "cells": [
  {
   "cell_type": "markdown",
   "metadata": {},
   "source": [
    "# Home Match AI\n",
    "### Created by:\n",
    "Vo Nguyen\n",
    "\n",
    "### Description:\n",
    "Personalization is key to customer satisfaction! At our company, we want to revolutionize how clients interact with real-estate listings.\n",
    "\n",
    "### Goal\n",
    "Create a personalize experience for each buy, making property search process more engaging and tailored to individual preference.\n",
    "\n",
    "### Core Components of \"HomeMatchAI\"\n",
    "**Understanding Buyer Preferences:**\n",
    "- Buyers will input their requirements and preferences, such as location, property type, budget, amenities, and lifestyle choices.\n",
    "- The application uses LLMs to interpret these inputs in natural language, understanding nuanced requests beyond basic filters.\n",
    "\n",
    "**Integrating with a Vector Database:**\n",
    "- Connect \"HomeMatch\" with a vector database, where all available property listings are stored.\n",
    "- Utilize vector embeddings to match properties with buyer preferences, focusing on aspects like neighborhood vibes, architectural styles, and proximity to specific amenities.\n",
    "\n",
    "**Personalized Listing Description Generation:**\n",
    "- For each matched listing, use an LLM to rewrite the description in a way that highlights aspects most relevant to the buyer’s preferences.\n",
    "- Ensure personalization emphasizes characteristics appealing to the buyer without altering factual information about the property.\n"
   ]
  },
  {
   "cell_type": "markdown",
   "metadata": {},
   "source": [
    "## Synthetic Data Generation\n",
    "- Generate Real Estate Listings with an LLM"
   ]
  },
  {
   "cell_type": "markdown",
   "metadata": {},
   "source": [
    "### Load Libraries"
   ]
  },
  {
   "cell_type": "code",
   "execution_count": 4,
   "metadata": {},
   "outputs": [],
   "source": [
    "import openai\n",
    "from openai import OpenAI\n",
    "import os \n",
    "\n",
    "import json"
   ]
  },
  {
   "cell_type": "code",
   "execution_count": 1,
   "metadata": {},
   "outputs": [
    {
     "data": {
      "text/plain": [
       "True"
      ]
     },
     "execution_count": 1,
     "metadata": {},
     "output_type": "execute_result"
    }
   ],
   "source": [
    "from dotenv import load_dotenv\n",
    "load_dotenv(\"dev.env\")"
   ]
  },
  {
   "cell_type": "code",
   "execution_count": 3,
   "metadata": {},
   "outputs": [],
   "source": [
    "openai.api_key = os.getenv(\"api_key\")\n",
    "openai.api_base = os.getenv(\"api_base\")\n",
    "\n",
    "client = OpenAI()"
   ]
  },
  {
   "cell_type": "code",
   "execution_count": 5,
   "metadata": {},
   "outputs": [],
   "source": [
    "def create_embeddings(text):\n",
    "    response = client.embeddings.create(\n",
    "        model = \"text-embedding-ada-002\",\n",
    "        input = text\n",
    "    )\n",
    "    response_dict = json.loads(response.model_dump_json())\n",
    "    embedds = response_dict[\"data\"][0][\"embedding\"]\n",
    "\n",
    "    return embedds"
   ]
  },
  {
   "cell_type": "code",
   "execution_count": 39,
   "metadata": {},
   "outputs": [],
   "source": [
    "system_prompt_listings = \"\"\"\n",
    "### ROLE ####\n",
    "You are Real Estate AI Asssittant that specializes in generating listings\n",
    "\n",
    "### TASK ####\n",
    "Your task is to generate a real estate random listing similar to the example and must contain EXACTLY the following fields:\n",
    "- Neighborhood\n",
    "- Price\n",
    "- Bedrooms\n",
    "- Bathrooms\n",
    "- House Size\n",
    "- Description\n",
    "- Neighborhood Description\n",
    "\n",
    "### Requirements ###\n",
    "- The listing should be realistic and appealing to potential buyers.\n",
    "- Use descriptive language to highlight the features of the property and the neighborhood.\n",
    "- Keep it in same format as the example\n",
    "- Try to interchange Neighborhood names, prices, and features to create a unique listing.\n",
    "- Try to include names of fantasy places or characters as the Nieghborhood name.\n",
    "- Do not show any heads or title, just create the listing to what is below for the sake of putting it into a dataframe.\n",
    "\n",
    "### EXAMPLE ###\n",
    "\n",
    "Neighborhood: Green Oaks\n",
    "Price: $800,000\n",
    "Bedrooms: 3\n",
    "Bathrooms: 2\n",
    "House Size: 2,000 sqft\n",
    "Description: Welcome to this eco-friendly oasis nestled in the heart of Green Oaks. This charming 3-bedroom, 2-bathroom home boasts energy-efficient features such as solar panels and a well-insulated structure. Natural light floods the living spaces, highlighting the beautiful hardwood floors and eco-conscious finishes. The open-concept kitchen and dining area lead to a spacious backyard with a vegetable garden, perfect for the eco-conscious family. Embrace sustainable living without compromising on style in this Green Oaks gem.\n",
    "Neighborhood Description: Green Oaks is a close-knit, environmentally-conscious community with access to organic grocery stores, community gardens, and bike paths. Take a stroll through the nearby Green Oaks Park or grab a cup of coffee at the cozy Green Bean Cafe. With easy access to public transportation and bike lanes, commuting is a breeze.\n",
    "\n",
    "\n",
    "\"\"\"\n"
   ]
  },
  {
   "cell_type": "markdown",
   "metadata": {},
   "source": [
    "Generate Embeddings and Listings"
   ]
  },
  {
   "cell_type": "code",
   "execution_count": 40,
   "metadata": {},
   "outputs": [
    {
     "name": "stderr",
     "output_type": "stream",
     "text": [
      "Generating Listings: 100%|██████████| 11/11 [00:31<00:00,  2.89s/it]\n"
     ]
    }
   ],
   "source": [
    "from tqdm import tqdm\n",
    "\n",
    "def generate_listings(system_prompt):\n",
    "    prompt = system_prompt\n",
    "    response = client.completions.create(\n",
    "        model=\"gpt-3.5-turbo-instruct\",\n",
    "        prompt=prompt,\n",
    "        max_tokens=1500\n",
    "    )\n",
    "    return response.choices[0].text\n",
    "\n",
    "listings = []\n",
    "listings_embeddings = []\n",
    "\n",
    "for _ in tqdm(range(11), desc=\"Generating Listings\"):\n",
    "    listing = generate_listings(system_prompt_listings)\n",
    "    listing_embeddings = create_embeddings(listing)\n",
    "    listings.append(listing)\n",
    "    listings_embeddings.append(listing_embeddings)\n"
   ]
  },
  {
   "cell_type": "code",
   "execution_count": 41,
   "metadata": {},
   "outputs": [
    {
     "data": {
      "text/html": [
       "<div>\n",
       "<style scoped>\n",
       "    .dataframe tbody tr th:only-of-type {\n",
       "        vertical-align: middle;\n",
       "    }\n",
       "\n",
       "    .dataframe tbody tr th {\n",
       "        vertical-align: top;\n",
       "    }\n",
       "\n",
       "    .dataframe thead th {\n",
       "        text-align: right;\n",
       "    }\n",
       "</style>\n",
       "<table border=\"1\" class=\"dataframe\">\n",
       "  <thead>\n",
       "    <tr style=\"text-align: right;\">\n",
       "      <th></th>\n",
       "      <th>listing</th>\n",
       "      <th>embedding</th>\n",
       "    </tr>\n",
       "  </thead>\n",
       "  <tbody>\n",
       "    <tr>\n",
       "      <th>0</th>\n",
       "      <td>Neighborhood: Golden Grove\\nPrice: $750,000\\nB...</td>\n",
       "      <td>[0.017127079889178276, 0.023387322202324867, -...</td>\n",
       "    </tr>\n",
       "    <tr>\n",
       "      <th>1</th>\n",
       "      <td>Neighborhood: Golden Peak\\nPrice: $1,200,000\\n...</td>\n",
       "      <td>[0.021166713908314705, 0.016980759799480438, -...</td>\n",
       "    </tr>\n",
       "    <tr>\n",
       "      <th>2</th>\n",
       "      <td>Neighborhood: Riverdale\\nPrice: $650,000\\nBedr...</td>\n",
       "      <td>[0.007767536677420139, 0.007729398086667061, -...</td>\n",
       "    </tr>\n",
       "    <tr>\n",
       "      <th>3</th>\n",
       "      <td>Neighborhood: Hidden Vale\\nPrice: $1,200,000\\n...</td>\n",
       "      <td>[0.008742164820432663, 0.01611197367310524, -0...</td>\n",
       "    </tr>\n",
       "    <tr>\n",
       "      <th>4</th>\n",
       "      <td>Neighborhood: Hidden Valley\\nPrice: $950,000\\n...</td>\n",
       "      <td>[0.01955648511648178, 0.015668749809265137, -0...</td>\n",
       "    </tr>\n",
       "    <tr>\n",
       "      <th>5</th>\n",
       "      <td>Neighborhood: Mystic Glen\\nPrice: $1,200,000\\n...</td>\n",
       "      <td>[0.01475507952272892, 0.01735503599047661, -0....</td>\n",
       "    </tr>\n",
       "    <tr>\n",
       "      <th>6</th>\n",
       "      <td>Neighborhood: Heavenly Haven\\nPrice: $1,200,00...</td>\n",
       "      <td>[0.013147459365427494, 0.01406047772616148, -0...</td>\n",
       "    </tr>\n",
       "    <tr>\n",
       "      <th>7</th>\n",
       "      <td>Neighborhood: Rivendell\\nPrice: $1,200,000\\nBe...</td>\n",
       "      <td>[0.009661990217864513, 0.006560327485203743, -...</td>\n",
       "    </tr>\n",
       "    <tr>\n",
       "      <th>8</th>\n",
       "      <td>### FANTASTIC LISTING ###\\n\\nNeighborhood: Mys...</td>\n",
       "      <td>[0.02168569527566433, 0.013535277917981148, -0...</td>\n",
       "    </tr>\n",
       "    <tr>\n",
       "      <th>9</th>\n",
       "      <td>Neighborhood:Silver City\\nPrice:$1,200,000\\nBe...</td>\n",
       "      <td>[0.029040899127721786, 0.019910717383027077, -...</td>\n",
       "    </tr>\n",
       "    <tr>\n",
       "      <th>10</th>\n",
       "      <td>Neighborhood: Crystal Lake\\nPrice: $675,000\\nB...</td>\n",
       "      <td>[0.02469462901353836, 0.004842147696763277, -0...</td>\n",
       "    </tr>\n",
       "  </tbody>\n",
       "</table>\n",
       "</div>"
      ],
      "text/plain": [
       "                                              listing  \\\n",
       "0   Neighborhood: Golden Grove\\nPrice: $750,000\\nB...   \n",
       "1   Neighborhood: Golden Peak\\nPrice: $1,200,000\\n...   \n",
       "2   Neighborhood: Riverdale\\nPrice: $650,000\\nBedr...   \n",
       "3   Neighborhood: Hidden Vale\\nPrice: $1,200,000\\n...   \n",
       "4   Neighborhood: Hidden Valley\\nPrice: $950,000\\n...   \n",
       "5   Neighborhood: Mystic Glen\\nPrice: $1,200,000\\n...   \n",
       "6   Neighborhood: Heavenly Haven\\nPrice: $1,200,00...   \n",
       "7   Neighborhood: Rivendell\\nPrice: $1,200,000\\nBe...   \n",
       "8   ### FANTASTIC LISTING ###\\n\\nNeighborhood: Mys...   \n",
       "9   Neighborhood:Silver City\\nPrice:$1,200,000\\nBe...   \n",
       "10  Neighborhood: Crystal Lake\\nPrice: $675,000\\nB...   \n",
       "\n",
       "                                            embedding  \n",
       "0   [0.017127079889178276, 0.023387322202324867, -...  \n",
       "1   [0.021166713908314705, 0.016980759799480438, -...  \n",
       "2   [0.007767536677420139, 0.007729398086667061, -...  \n",
       "3   [0.008742164820432663, 0.01611197367310524, -0...  \n",
       "4   [0.01955648511648178, 0.015668749809265137, -0...  \n",
       "5   [0.01475507952272892, 0.01735503599047661, -0....  \n",
       "6   [0.013147459365427494, 0.01406047772616148, -0...  \n",
       "7   [0.009661990217864513, 0.006560327485203743, -...  \n",
       "8   [0.02168569527566433, 0.013535277917981148, -0...  \n",
       "9   [0.029040899127721786, 0.019910717383027077, -...  \n",
       "10  [0.02469462901353836, 0.004842147696763277, -0...  "
      ]
     },
     "metadata": {},
     "output_type": "display_data"
    }
   ],
   "source": [
    "import pandas as pd\n",
    "\n",
    "df = pd.DataFrame(\n",
    "    {\n",
    "        \"listing\": listings,\n",
    "        \"embedding\": listings_embeddings\n",
    "    }\n",
    ")\n",
    "\n",
    "display(df)"
   ]
  },
  {
   "cell_type": "code",
   "execution_count": 52,
   "metadata": {},
   "outputs": [
    {
     "data": {
      "text/plain": [
       "listing      object\n",
       "embedding    object\n",
       "dtype: object"
      ]
     },
     "execution_count": 52,
     "metadata": {},
     "output_type": "execute_result"
    }
   ],
   "source": [
    "df.dtypes"
   ]
  },
  {
   "cell_type": "code",
   "execution_count": 42,
   "metadata": {},
   "outputs": [],
   "source": [
    "df.to_csv(\"./data/output/listings.csv\", index=False)"
   ]
  },
  {
   "cell_type": "markdown",
   "metadata": {},
   "source": [
    "## Semantic Search\n",
    "- Creating a Vector Database and Storing Listings\n",
    "- Semantic Search of Listings Based on Buyer Preferences"
   ]
  },
  {
   "cell_type": "markdown",
   "metadata": {},
   "source": [
    "### Creating Vector Database and Store Listings"
   ]
  },
  {
   "cell_type": "code",
   "execution_count": 53,
   "metadata": {},
   "outputs": [],
   "source": [
    "from lancedb.pydantic import vector, LanceModel\n",
    "import lancedb\n",
    "\n",
    "class RealEstateListing(LanceModel):\n",
    "    listing: str\n",
    "    embedding: vector(1536)  # Update the dimension to match your embedding model\n",
    "\n",
    "db = lancedb.connect(\"~/.lancedb\")\n",
    "table_name = \"RealEstateListings\"\n",
    "db.drop_table(table_name, ignore_missing=True)\n",
    "table = db.create_table(table_name, schema=RealEstateListing)\n"
   ]
  },
  {
   "cell_type": "code",
   "execution_count": 54,
   "metadata": {},
   "outputs": [],
   "source": [
    "table.add(df)\n"
   ]
  },
  {
   "cell_type": "code",
   "execution_count": 55,
   "metadata": {},
   "outputs": [
    {
     "data": {
      "text/html": [
       "<div>\n",
       "<style scoped>\n",
       "    .dataframe tbody tr th:only-of-type {\n",
       "        vertical-align: middle;\n",
       "    }\n",
       "\n",
       "    .dataframe tbody tr th {\n",
       "        vertical-align: top;\n",
       "    }\n",
       "\n",
       "    .dataframe thead th {\n",
       "        text-align: right;\n",
       "    }\n",
       "</style>\n",
       "<table border=\"1\" class=\"dataframe\">\n",
       "  <thead>\n",
       "    <tr style=\"text-align: right;\">\n",
       "      <th></th>\n",
       "      <th>listing</th>\n",
       "      <th>embedding</th>\n",
       "    </tr>\n",
       "  </thead>\n",
       "  <tbody>\n",
       "    <tr>\n",
       "      <th>0</th>\n",
       "      <td>Neighborhood: Golden Grove\\nPrice: $750,000\\nB...</td>\n",
       "      <td>[0.01712708, 0.023387322, -0.0046525286, -0.00...</td>\n",
       "    </tr>\n",
       "    <tr>\n",
       "      <th>1</th>\n",
       "      <td>Neighborhood: Golden Peak\\nPrice: $1,200,000\\n...</td>\n",
       "      <td>[0.021166714, 0.01698076, -0.019468637, -0.009...</td>\n",
       "    </tr>\n",
       "    <tr>\n",
       "      <th>2</th>\n",
       "      <td>Neighborhood: Riverdale\\nPrice: $650,000\\nBedr...</td>\n",
       "      <td>[0.0077675367, 0.007729398, -0.0015883086, 0.0...</td>\n",
       "    </tr>\n",
       "    <tr>\n",
       "      <th>3</th>\n",
       "      <td>Neighborhood: Hidden Vale\\nPrice: $1,200,000\\n...</td>\n",
       "      <td>[0.008742165, 0.016111974, -0.003249446, 0.007...</td>\n",
       "    </tr>\n",
       "    <tr>\n",
       "      <th>4</th>\n",
       "      <td>Neighborhood: Hidden Valley\\nPrice: $950,000\\n...</td>\n",
       "      <td>[0.019556485, 0.01566875, -0.002686726, 0.0030...</td>\n",
       "    </tr>\n",
       "  </tbody>\n",
       "</table>\n",
       "</div>"
      ],
      "text/plain": [
       "                                             listing  \\\n",
       "0  Neighborhood: Golden Grove\\nPrice: $750,000\\nB...   \n",
       "1  Neighborhood: Golden Peak\\nPrice: $1,200,000\\n...   \n",
       "2  Neighborhood: Riverdale\\nPrice: $650,000\\nBedr...   \n",
       "3  Neighborhood: Hidden Vale\\nPrice: $1,200,000\\n...   \n",
       "4  Neighborhood: Hidden Valley\\nPrice: $950,000\\n...   \n",
       "\n",
       "                                           embedding  \n",
       "0  [0.01712708, 0.023387322, -0.0046525286, -0.00...  \n",
       "1  [0.021166714, 0.01698076, -0.019468637, -0.009...  \n",
       "2  [0.0077675367, 0.007729398, -0.0015883086, 0.0...  \n",
       "3  [0.008742165, 0.016111974, -0.003249446, 0.007...  \n",
       "4  [0.019556485, 0.01566875, -0.002686726, 0.0030...  "
      ]
     },
     "execution_count": 55,
     "metadata": {},
     "output_type": "execute_result"
    }
   ],
   "source": [
    "table.head().to_pandas()\n"
   ]
  },
  {
   "cell_type": "code",
   "execution_count": 59,
   "metadata": {},
   "outputs": [
    {
     "name": "stderr",
     "output_type": "stream",
     "text": [
      "C:\\Users\\Vo Nguyen\\AppData\\Local\\Temp\\ipykernel_36724\\3728248892.py:4: UnsupportedWarning: to_df is unsupported as of 0.4.0. Use to_pandas() instead\n",
      "  table.search(query_embedding).limit(10).to_df()\n"
     ]
    },
    {
     "data": {
      "text/html": [
       "<div>\n",
       "<style scoped>\n",
       "    .dataframe tbody tr th:only-of-type {\n",
       "        vertical-align: middle;\n",
       "    }\n",
       "\n",
       "    .dataframe tbody tr th {\n",
       "        vertical-align: top;\n",
       "    }\n",
       "\n",
       "    .dataframe thead th {\n",
       "        text-align: right;\n",
       "    }\n",
       "</style>\n",
       "<table border=\"1\" class=\"dataframe\">\n",
       "  <thead>\n",
       "    <tr style=\"text-align: right;\">\n",
       "      <th></th>\n",
       "      <th>listing</th>\n",
       "      <th>embedding</th>\n",
       "      <th>_distance</th>\n",
       "    </tr>\n",
       "  </thead>\n",
       "  <tbody>\n",
       "    <tr>\n",
       "      <th>0</th>\n",
       "      <td>Neighborhood: Rivendell\\nPrice: $1,200,000\\nBe...</td>\n",
       "      <td>[0.00966199, 0.0065603275, -0.021341534, 0.001...</td>\n",
       "      <td>0.235820</td>\n",
       "    </tr>\n",
       "    <tr>\n",
       "      <th>1</th>\n",
       "      <td>Neighborhood: Golden Peak\\nPrice: $1,200,000\\n...</td>\n",
       "      <td>[0.021166714, 0.01698076, -0.019468637, -0.009...</td>\n",
       "      <td>0.390006</td>\n",
       "    </tr>\n",
       "    <tr>\n",
       "      <th>2</th>\n",
       "      <td>Neighborhood: Riverdale\\nPrice: $650,000\\nBedr...</td>\n",
       "      <td>[0.0077675367, 0.007729398, -0.0015883086, 0.0...</td>\n",
       "      <td>0.390469</td>\n",
       "    </tr>\n",
       "    <tr>\n",
       "      <th>3</th>\n",
       "      <td>Neighborhood: Heavenly Haven\\nPrice: $1,200,00...</td>\n",
       "      <td>[0.013147459, 0.014060478, -0.009606254, 0.008...</td>\n",
       "      <td>0.407394</td>\n",
       "    </tr>\n",
       "    <tr>\n",
       "      <th>4</th>\n",
       "      <td>Neighborhood: Mystic Glen\\nPrice: $1,200,000\\n...</td>\n",
       "      <td>[0.0147550795, 0.017355036, -0.0065592797, -0....</td>\n",
       "      <td>0.407678</td>\n",
       "    </tr>\n",
       "    <tr>\n",
       "      <th>5</th>\n",
       "      <td>Neighborhood: Hidden Vale\\nPrice: $1,200,000\\n...</td>\n",
       "      <td>[0.008742165, 0.016111974, -0.003249446, 0.007...</td>\n",
       "      <td>0.409586</td>\n",
       "    </tr>\n",
       "    <tr>\n",
       "      <th>6</th>\n",
       "      <td>Neighborhood:Silver City\\nPrice:$1,200,000\\nBe...</td>\n",
       "      <td>[0.0290409, 0.019910717, -0.017901013, -0.0216...</td>\n",
       "      <td>0.423689</td>\n",
       "    </tr>\n",
       "    <tr>\n",
       "      <th>7</th>\n",
       "      <td>### FANTASTIC LISTING ###\\n\\nNeighborhood: Mys...</td>\n",
       "      <td>[0.021685695, 0.013535278, -0.017298032, 0.000...</td>\n",
       "      <td>0.425014</td>\n",
       "    </tr>\n",
       "    <tr>\n",
       "      <th>8</th>\n",
       "      <td>Neighborhood: Hidden Valley\\nPrice: $950,000\\n...</td>\n",
       "      <td>[0.019556485, 0.01566875, -0.002686726, 0.0030...</td>\n",
       "      <td>0.425532</td>\n",
       "    </tr>\n",
       "    <tr>\n",
       "      <th>9</th>\n",
       "      <td>Neighborhood: Golden Grove\\nPrice: $750,000\\nB...</td>\n",
       "      <td>[0.01712708, 0.023387322, -0.0046525286, -0.00...</td>\n",
       "      <td>0.448683</td>\n",
       "    </tr>\n",
       "  </tbody>\n",
       "</table>\n",
       "</div>"
      ],
      "text/plain": [
       "                                             listing  \\\n",
       "0  Neighborhood: Rivendell\\nPrice: $1,200,000\\nBe...   \n",
       "1  Neighborhood: Golden Peak\\nPrice: $1,200,000\\n...   \n",
       "2  Neighborhood: Riverdale\\nPrice: $650,000\\nBedr...   \n",
       "3  Neighborhood: Heavenly Haven\\nPrice: $1,200,00...   \n",
       "4  Neighborhood: Mystic Glen\\nPrice: $1,200,000\\n...   \n",
       "5  Neighborhood: Hidden Vale\\nPrice: $1,200,000\\n...   \n",
       "6  Neighborhood:Silver City\\nPrice:$1,200,000\\nBe...   \n",
       "7  ### FANTASTIC LISTING ###\\n\\nNeighborhood: Mys...   \n",
       "8  Neighborhood: Hidden Valley\\nPrice: $950,000\\n...   \n",
       "9  Neighborhood: Golden Grove\\nPrice: $750,000\\nB...   \n",
       "\n",
       "                                           embedding  _distance  \n",
       "0  [0.00966199, 0.0065603275, -0.021341534, 0.001...   0.235820  \n",
       "1  [0.021166714, 0.01698076, -0.019468637, -0.009...   0.390006  \n",
       "2  [0.0077675367, 0.007729398, -0.0015883086, 0.0...   0.390469  \n",
       "3  [0.013147459, 0.014060478, -0.009606254, 0.008...   0.407394  \n",
       "4  [0.0147550795, 0.017355036, -0.0065592797, -0....   0.407678  \n",
       "5  [0.008742165, 0.016111974, -0.003249446, 0.007...   0.409586  \n",
       "6  [0.0290409, 0.019910717, -0.017901013, -0.0216...   0.423689  \n",
       "7  [0.021685695, 0.013535278, -0.017298032, 0.000...   0.425014  \n",
       "8  [0.019556485, 0.01566875, -0.002686726, 0.0030...   0.425532  \n",
       "9  [0.01712708, 0.023387322, -0.0046525286, -0.00...   0.448683  "
      ]
     },
     "execution_count": 59,
     "metadata": {},
     "output_type": "execute_result"
    }
   ],
   "source": [
    "import numpy as np\n",
    "query = \"I want to live in Rivendell with the price of $1,200,000 and 3 bedrooms\"\n",
    "query_embedding = create_embeddings(query)\n",
    "table.search(query_embedding).limit(10).to_df()"
   ]
  },
  {
   "cell_type": "markdown",
   "metadata": {},
   "source": [
    "### Semantic Search of Listings Based on Buyer Preferences"
   ]
  },
  {
   "cell_type": "markdown",
   "metadata": {},
   "source": [
    "Buyer's Preference"
   ]
  },
  {
   "cell_type": "code",
   "execution_count": 62,
   "metadata": {},
   "outputs": [],
   "source": [
    "questions = [   \n",
    "                \"How big do you want your house to be?\" \n",
    "                \"What are 3 most important things for you in choosing this property?\", \n",
    "                \"Which amenities would you like?\", \n",
    "                \"Which transportation options are important to you?\",\n",
    "                \"How urban do you want your neighborhood to be?\",   \n",
    "            ]\n",
    "answers = [\n",
    "    \"A comfortable three-bedroom house with a spacious kitchen and a cozy living room.\",\n",
    "    \"A quiet neighborhood, good local schools, and convenient shopping options.\",\n",
    "    \"A backyard for gardening, a two-car garage, and a modern, energy-efficient heating system.\",\n",
    "    \"Easy access to a reliable bus line, proximity to a major highway, and bike-friendly roads.\",\n",
    "    \"A balance between suburban tranquility and access to urban amenities like restaurants and theaters.\"\n",
    "]"
   ]
  },
  {
   "cell_type": "markdown",
   "metadata": {},
   "source": [
    "### Augmented Response Generation\n",
    "- Logic for Searching and Augmenting Listings Description\n",
    "- Use of LLM of Generating Personalize Descriptions"
   ]
  },
  {
   "cell_type": "markdown",
   "metadata": {},
   "source": [
    "### Logic For Searching and Augmenting Listings Descriptions"
   ]
  },
  {
   "cell_type": "code",
   "execution_count": 74,
   "metadata": {},
   "outputs": [],
   "source": [
    "compiled_answer = \" \".join(answers)\n",
    "answer_embeddings = create_embeddings(compiled_answer)\n",
    "results = table.search(answer_embeddings).limit(10).to_pandas()"
   ]
  },
  {
   "cell_type": "code",
   "execution_count": 71,
   "metadata": {},
   "outputs": [
    {
     "data": {
      "text/html": [
       "<div>\n",
       "<style scoped>\n",
       "    .dataframe tbody tr th:only-of-type {\n",
       "        vertical-align: middle;\n",
       "    }\n",
       "\n",
       "    .dataframe tbody tr th {\n",
       "        vertical-align: top;\n",
       "    }\n",
       "\n",
       "    .dataframe thead th {\n",
       "        text-align: right;\n",
       "    }\n",
       "</style>\n",
       "<table border=\"1\" class=\"dataframe\">\n",
       "  <thead>\n",
       "    <tr style=\"text-align: right;\">\n",
       "      <th></th>\n",
       "      <th>listing</th>\n",
       "      <th>embedding</th>\n",
       "      <th>_distance</th>\n",
       "    </tr>\n",
       "  </thead>\n",
       "  <tbody>\n",
       "    <tr>\n",
       "      <th>0</th>\n",
       "      <td>Neighborhood: Riverdale\\nPrice: $650,000\\nBedr...</td>\n",
       "      <td>[0.0077675367, 0.007729398, -0.0015883086, 0.0...</td>\n",
       "      <td>0.300832</td>\n",
       "    </tr>\n",
       "    <tr>\n",
       "      <th>1</th>\n",
       "      <td>Neighborhood:Silver City\\nPrice:$1,200,000\\nBe...</td>\n",
       "      <td>[0.0290409, 0.019910717, -0.017901013, -0.0216...</td>\n",
       "      <td>0.329480</td>\n",
       "    </tr>\n",
       "    <tr>\n",
       "      <th>2</th>\n",
       "      <td>Neighborhood: Golden Grove\\nPrice: $750,000\\nB...</td>\n",
       "      <td>[0.01712708, 0.023387322, -0.0046525286, -0.00...</td>\n",
       "      <td>0.337139</td>\n",
       "    </tr>\n",
       "    <tr>\n",
       "      <th>3</th>\n",
       "      <td>Neighborhood: Rivendell\\nPrice: $1,200,000\\nBe...</td>\n",
       "      <td>[0.00966199, 0.0065603275, -0.021341534, 0.001...</td>\n",
       "      <td>0.350273</td>\n",
       "    </tr>\n",
       "    <tr>\n",
       "      <th>4</th>\n",
       "      <td>### FANTASTIC LISTING ###\\n\\nNeighborhood: Mys...</td>\n",
       "      <td>[0.021685695, 0.013535278, -0.017298032, 0.000...</td>\n",
       "      <td>0.353152</td>\n",
       "    </tr>\n",
       "    <tr>\n",
       "      <th>5</th>\n",
       "      <td>Neighborhood: Mystic Glen\\nPrice: $1,200,000\\n...</td>\n",
       "      <td>[0.0147550795, 0.017355036, -0.0065592797, -0....</td>\n",
       "      <td>0.353560</td>\n",
       "    </tr>\n",
       "    <tr>\n",
       "      <th>6</th>\n",
       "      <td>Neighborhood: Hidden Valley\\nPrice: $950,000\\n...</td>\n",
       "      <td>[0.019556485, 0.01566875, -0.002686726, 0.0030...</td>\n",
       "      <td>0.363746</td>\n",
       "    </tr>\n",
       "    <tr>\n",
       "      <th>7</th>\n",
       "      <td>Neighborhood: Heavenly Haven\\nPrice: $1,200,00...</td>\n",
       "      <td>[0.013147459, 0.014060478, -0.009606254, 0.008...</td>\n",
       "      <td>0.372708</td>\n",
       "    </tr>\n",
       "    <tr>\n",
       "      <th>8</th>\n",
       "      <td>Neighborhood: Hidden Vale\\nPrice: $1,200,000\\n...</td>\n",
       "      <td>[0.008742165, 0.016111974, -0.003249446, 0.007...</td>\n",
       "      <td>0.373175</td>\n",
       "    </tr>\n",
       "    <tr>\n",
       "      <th>9</th>\n",
       "      <td>Neighborhood: Golden Peak\\nPrice: $1,200,000\\n...</td>\n",
       "      <td>[0.021166714, 0.01698076, -0.019468637, -0.009...</td>\n",
       "      <td>0.374176</td>\n",
       "    </tr>\n",
       "  </tbody>\n",
       "</table>\n",
       "</div>"
      ],
      "text/plain": [
       "                                             listing  \\\n",
       "0  Neighborhood: Riverdale\\nPrice: $650,000\\nBedr...   \n",
       "1  Neighborhood:Silver City\\nPrice:$1,200,000\\nBe...   \n",
       "2  Neighborhood: Golden Grove\\nPrice: $750,000\\nB...   \n",
       "3  Neighborhood: Rivendell\\nPrice: $1,200,000\\nBe...   \n",
       "4  ### FANTASTIC LISTING ###\\n\\nNeighborhood: Mys...   \n",
       "5  Neighborhood: Mystic Glen\\nPrice: $1,200,000\\n...   \n",
       "6  Neighborhood: Hidden Valley\\nPrice: $950,000\\n...   \n",
       "7  Neighborhood: Heavenly Haven\\nPrice: $1,200,00...   \n",
       "8  Neighborhood: Hidden Vale\\nPrice: $1,200,000\\n...   \n",
       "9  Neighborhood: Golden Peak\\nPrice: $1,200,000\\n...   \n",
       "\n",
       "                                           embedding  _distance  \n",
       "0  [0.0077675367, 0.007729398, -0.0015883086, 0.0...   0.300832  \n",
       "1  [0.0290409, 0.019910717, -0.017901013, -0.0216...   0.329480  \n",
       "2  [0.01712708, 0.023387322, -0.0046525286, -0.00...   0.337139  \n",
       "3  [0.00966199, 0.0065603275, -0.021341534, 0.001...   0.350273  \n",
       "4  [0.021685695, 0.013535278, -0.017298032, 0.000...   0.353152  \n",
       "5  [0.0147550795, 0.017355036, -0.0065592797, -0....   0.353560  \n",
       "6  [0.019556485, 0.01566875, -0.002686726, 0.0030...   0.363746  \n",
       "7  [0.013147459, 0.014060478, -0.009606254, 0.008...   0.372708  \n",
       "8  [0.008742165, 0.016111974, -0.003249446, 0.007...   0.373175  \n",
       "9  [0.021166714, 0.01698076, -0.019468637, -0.009...   0.374176  "
      ]
     },
     "metadata": {},
     "output_type": "display_data"
    }
   ],
   "source": [
    "display(results)"
   ]
  },
  {
   "cell_type": "code",
   "execution_count": 75,
   "metadata": {},
   "outputs": [
    {
     "name": "stdout",
     "output_type": "stream",
     "text": [
      "Neighborhood: Riverdale\n",
      "Price: $650,000\n",
      "Bedrooms: 4\n",
      "Bathrooms: 3\n",
      "House Size: 2,500 sqft\n",
      "Description: Welcome to this spacious 4-bedroom, 3-bathroom home in the charming neighborhood of Riverdale. The elegant brick exterior exudes sophistication and the expansive backyard is perfect for hosting summer BBQs. Inside, the hardwood floors and vaulted ceilings create a grand living space, perfect for entertaining guests. The recently renovated kitchen boasts modern appliances and granite countertops. Retreat to the luxurious master suite, complete with a walk-in closet and spa-like bathroom. Make this Riverdale gem your dream home.\n",
      "Neighborhood Description:Escape the hustle and bustle of the city in the tranquil neighborhood of Riverdale. Surrounded by lush greenery, this community offers a peaceful and scenic environment. Enjoy a cup of coffee at the nearby Riverdale Cafe or take a leisurely stroll along the river. With easy access to local schools and parks, Riverdale is the perfect place for families. Don't miss out on the opportunity to join this idyllic neighborhood. \n"
     ]
    }
   ],
   "source": [
    "top_answer = results.iloc[0][\"listing\"]\n",
    "print(top_answer)"
   ]
  },
  {
   "cell_type": "markdown",
   "metadata": {},
   "source": [
    "### Use of LLM of Generating Personalize Descriptions"
   ]
  },
  {
   "cell_type": "code",
   "execution_count": 77,
   "metadata": {},
   "outputs": [],
   "source": [
    "personalize_prompt = \"\"\"\n",
    "### ROLE ####\n",
    "You are an AI Assistant that takes a real estate listing and a buyer's preferences and generates a personalized description of the property.\n",
    "### TASK ####\n",
    "Your task is to augment the description, tailoring it to resonate with the buyer’s specific preferences. This involves subtly emphasizing aspects of the property that align with what the buyer is looking for.\n",
    "\n",
    "### REQUIREMENTS ###\n",
    "Maintain factual integrity: Enhance the appeal of the listing without altering any factual information.\n",
    "\"\"\"\n",
    "\n",
    "def generate_personal_description(listing, buyer_preferences):\n",
    "    user_prompt = f\"\"\"\n",
    "Listing:\n",
    "{listing}\n",
    "\n",
    "Buyer Preferences:\n",
    "{buyer_preferences}\n",
    "\"\"\"\n",
    "    response = client.chat.completions.create(\n",
    "        model=\"gpt-4\",\n",
    "        messages=[\n",
    "            {\"role\": \"system\", \"content\": personalize_prompt},\n",
    "            {\"role\": \"user\", \"content\": user_prompt}\n",
    "        ],\n",
    "        max_tokens=2000,\n",
    "        temperature=0.4\n",
    "    )\n",
    "    return response.choices[0].message.content.strip()\n"
   ]
  },
  {
   "cell_type": "markdown",
   "metadata": {},
   "source": [
    "### Test Case 1"
   ]
  },
  {
   "cell_type": "code",
   "execution_count": 78,
   "metadata": {},
   "outputs": [
    {
     "name": "stdout",
     "output_type": "stream",
     "text": [
      "Welcome to your dream home - a comfortable and spacious 4-bedroom, 3-bathroom house nestled in the tranquil neighborhood of Riverdale, priced at $650,000. The house spans a generous 2,500 sqft, giving you more than enough room to create your cozy living space. \n",
      "\n",
      "The exterior of this gem is adorned with elegant brick, lending an air of sophistication. The expansive backyard is not just perfect for hosting summer BBQs, but also provides ample space for your gardening pursuits. \n",
      "\n",
      "Step inside to find hardwood floors and vaulted ceilings that create a grand living space, perfect for entertaining guests or enjoying a quiet evening with family. The recently renovated kitchen, which boasts modern appliances and granite countertops, is spacious enough for all your culinary adventures. \n",
      "\n",
      "The luxurious master suite is a retreat within your home, complete with a walk-in closet and a spa-like bathroom. The house also includes a two-car garage and a modern, energy-efficient heating system, aligning perfectly with your preferences.\n",
      "\n",
      "Riverdale is a charming neighborhood that strikes an ideal balance between suburban tranquility and urban amenities. The lush greenery and serene environment offer a peaceful respite from the city's hustle and bustle. It's a haven for families, with easy access to good local schools and parks. \n",
      "\n",
      "For your shopping convenience, there are several options nearby. The neighborhood also offers easy access to a reliable bus line and is in close proximity to a major highway. The bike-friendly roads make it a joy for cycling enthusiasts. \n",
      "\n",
      "Start your day with a cup of coffee at the nearby Riverdale Cafe or take a leisurely stroll along the river. For your entertainment needs, you have access to urban amenities like restaurants and theaters. \n",
      "\n",
      "Don't miss out on the opportunity to make this Riverdale gem your home, where suburban tranquility meets urban convenience.\n"
     ]
    }
   ],
   "source": [
    "questions = [   \n",
    "                \"How big do you want your house to be?\" \n",
    "                \"What are 3 most important things for you in choosing this property?\", \n",
    "                \"Which amenities would you like?\", \n",
    "                \"Which transportation options are important to you?\",\n",
    "                \"How urban do you want your neighborhood to be?\",   \n",
    "            ]\n",
    "answers = [\n",
    "    \"A comfortable three-bedroom house with a spacious kitchen and a cozy living room.\",\n",
    "    \"A quiet neighborhood, good local schools, and convenient shopping options.\",\n",
    "    \"A backyard for gardening, a two-car garage, and a modern, energy-efficient heating system.\",\n",
    "    \"Easy access to a reliable bus line, proximity to a major highway, and bike-friendly roads.\",\n",
    "    \"A balance between suburban tranquility and access to urban amenities like restaurants and theaters.\"\n",
    "]\n",
    "\n",
    "compiled_answer = \" \".join(answers)\n",
    "answer_embeddings = create_embeddings(compiled_answer)\n",
    "results = table.search(answer_embeddings).limit(10).to_pandas()\n",
    "top_answer = results.iloc[0][\"listing\"]\n",
    "\n",
    "\n",
    "personalized_description = generate_personal_description(top_answer, compiled_answer)\n",
    "print(personalized_description)"
   ]
  },
  {
   "cell_type": "markdown",
   "metadata": {},
   "source": [
    "### Test Case #2"
   ]
  },
  {
   "cell_type": "code",
   "execution_count": null,
   "metadata": {},
   "outputs": [],
   "source": [
    "questions = [   \n",
    "                \"How big do you want your house to be?\" \n",
    "                \"What are 3 most important things for you in choosing this property?\", \n",
    "                \"Which amenities would you like?\", \n",
    "                \"Which transportation options are important to you?\",\n",
    "                \"How urban do you want your neighborhood to be?\",   \n",
    "            ]\n",
    "answers = [\n",
    "    \"A comfortable three-bedroom house with a spacious kitchen and a cozy living room.\",\n",
    "    \"A quiet neighborhood, good local schools, and convenient shopping options.\",\n",
    "    \"A backyard for gardening, a two-car garage, and a modern, energy-efficient heating system.\",\n",
    "    \"Easy access to a reliable bus line, proximity to a major highway, and bike-friendly roads.\",\n",
    "    \"A balance between suburban tranquility and access to urban amenities like restaurants and theaters.\"\n",
    "]\n",
    "\n",
    "compiled_answer = \" \".join(answers)\n",
    "answer_embeddings = create_embeddings(compiled_answer)\n",
    "results = table.search(answer_embeddings).limit(10).to_pandas()\n",
    "top_answer = results.iloc[0][\"listing\"]\n",
    "\n",
    "\n",
    "personalized_description = generate_personal_description(top_answer, compiled_answer)\n",
    "print(personalized_description)"
   ]
  }
 ],
 "metadata": {
  "kernelspec": {
   "display_name": "newpoetry-joF30e_B-py3.12",
   "language": "python",
   "name": "python3"
  },
  "language_info": {
   "codemirror_mode": {
    "name": "ipython",
    "version": 3
   },
   "file_extension": ".py",
   "mimetype": "text/x-python",
   "name": "python",
   "nbconvert_exporter": "python",
   "pygments_lexer": "ipython3",
   "version": "3.12.9"
  }
 },
 "nbformat": 4,
 "nbformat_minor": 2
}
